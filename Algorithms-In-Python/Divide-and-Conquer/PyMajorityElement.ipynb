{
 "cells": [
  {
   "cell_type": "code",
   "execution_count": 11,
   "metadata": {},
   "outputs": [
    {
     "data": {
      "text/plain": [
       "False"
      ]
     },
     "execution_count": 11,
     "metadata": {},
     "output_type": "execute_result"
    }
   ],
   "source": [
    "class Candidate:\n",
    "    def __init__(self,id,count):\n",
    "        self.id = id\n",
    "        self.count = count\n",
    "\n",
    "Candidate(2,3).id\n",
    "def checkCandidateMajority(rightCandidate,L,n):\n",
    "        v = L.count(rightCandidate.id)\n",
    "        rightCandidate.count += v\n",
    "        if rightCandidate.count >  n /2:\n",
    "            return True\n",
    "        else:\n",
    "            return False\n",
    "checkCandidateMajority(Candidate(2,3),[1,1,1],6)"
   ]
  },
  {
   "cell_type": "code",
   "execution_count": 22,
   "metadata": {
    "scrolled": true
   },
   "outputs": [
    {
     "name": "stdout",
     "output_type": "stream",
     "text": [
      "2 3\n"
     ]
    }
   ],
   "source": [
    "import math\n",
    "\n",
    "# [1,2,1,3,1,1]\n",
    "# [1,1,1] [3,1,2] #check if Right side has a (n/2+1 - LeftMajorCount)\n",
    "class Candidate:\n",
    "    def __init__(self,id,count):\n",
    "        self.id = id\n",
    "        self.count = count\n",
    "\n",
    "def checkCandidateMajority(c,a,n):\n",
    "        v = a.count(c.id)\n",
    "        c.count += v\n",
    "        if c.id != None and c.count >  n /2:\n",
    "            return True\n",
    "        else:\n",
    "            return False\n",
    "        \n",
    "def combineMajority(leftCandidate,rightCandidate,L,R):\n",
    "    n = len(L)+len(R)\n",
    "    if checkCandidateMajority(rightCandidate,L,n):\n",
    "        return rightCandidate\n",
    "    elif checkCandidateMajority(leftCandidate,R,n):\n",
    "        return leftCandidate\n",
    "    else:\n",
    "        return Candidate(None,0)\n",
    "\n",
    "def majorityElement(a):\n",
    "    n = len(a)\n",
    "    if n == 1:\n",
    "        return Candidate(a[0],1)\n",
    "    else:\n",
    "        q = math.ceil(n/2)\n",
    "        L = a[0:q]\n",
    "        R = a[q:n]\n",
    "        leftCandidate = majorityElement(L)\n",
    "        rightCandidate = majorityElement(R)\n",
    "        return combineMajority(leftCandidate,rightCandidate,L,R)\n",
    "\n",
    "a=[1,1,2,2,2]\n",
    "t = majorityElement(a)\n",
    "print(t.id,t.count)\n"
   ]
  }
 ],
 "metadata": {
  "kernelspec": {
   "display_name": "Python 3",
   "language": "python",
   "name": "python3"
  },
  "language_info": {
   "codemirror_mode": {
    "name": "ipython",
    "version": 3
   },
   "file_extension": ".py",
   "mimetype": "text/x-python",
   "name": "python",
   "nbconvert_exporter": "python",
   "pygments_lexer": "ipython3",
   "version": "3.7.0"
  }
 },
 "nbformat": 4,
 "nbformat_minor": 2
}
