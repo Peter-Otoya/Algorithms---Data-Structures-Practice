{
 "cells": [
  {
   "cell_type": "code",
   "execution_count": 28,
   "metadata": {},
   "outputs": [
    {
     "data": {
      "text/plain": [
       "1"
      ]
     },
     "execution_count": 28,
     "metadata": {},
     "output_type": "execute_result"
    }
   ],
   "source": [
    "#\n",
    "# Pure divide and conquer approach with potential to run in 2*T(N/2) + O(S) + O(S) => S*log N\n",
    "#\n",
    "\n",
    "import math\n",
    "from random import randint\n",
    "import collections\n",
    "\n",
    "def swapElements(a,x,y):\n",
    "    temp = a[x]\n",
    "    a[x] = a[y]\n",
    "    a[y] = temp\n",
    "\n",
    "# need to refine and implement partition3\n",
    "def partition(A,q):\n",
    "    x = A[q]\n",
    "    swapElements(A,q,0)\n",
    "    n = len(A)\n",
    "    j = 0\n",
    "    t = j\n",
    "    for i in range(1,n):\n",
    "        if A[i] < x:\n",
    "            swapElements(A,i,j+1)\n",
    "            j+=1\n",
    "            t+=1\n",
    "        elif A[i]==x:\n",
    "            swapElements(A,i)\n",
    "            t+=1\n",
    "    swapElements(A,0,j)\n",
    "    return j\n",
    "\n",
    "# finds the median in O(n)\n",
    "def kthStatistic(A,k,low,high):\n",
    "    #q = math.ceil(low + (high-low)/2)\n",
    "    q = int((high+low)/2)\n",
    "    m = partition(A,q)\n",
    "    print(m,q,k)\n",
    "    if m == k:\n",
    "        return A[m]\n",
    "    elif k < m:\n",
    "        return kthStatistic(A,k,0,m-1)\n",
    "    elif k > m:\n",
    "        return kthStatistic(A,k,m+1,high)\n",
    "\n",
    "# Counts elements in O(n)\n",
    "# ConquerStep \n",
    "def countInRange(a,S,C):\n",
    "    for x in S:\n",
    "        if x[0] <= a and a <= x[1]:\n",
    "            C.update({a,1})\n",
    "\n",
    "# lottery count\n",
    "def lotteryCount(A,S,C):\n",
    "    n = len(A)\n",
    "    if n == 1:\n",
    "        countInRange(A[0],S,C)\n",
    "    else:\n",
    "        # Divide Step S and make sleft and sright\n",
    "        k = int( n/2 )\n",
    "        print(k)\n",
    "        median = kthStatistic(A,k,0,n-1)\n",
    "        sleft = []\n",
    "        sright=[]\n",
    "        for x in S:\n",
    "            ai = x[0]\n",
    "            bi = x[1]\n",
    "            if ai <= median and bi <= median:\n",
    "                sleft.append(x)\n",
    "            if bi > median:\n",
    "                sright.append(x)\n",
    "        \n",
    "        # Combine Step\n",
    "        print(A[0:k],sleft)\n",
    "        lotteryCount(A[0:k],sleft,C)\n",
    "        print(A[median:n],sright)\n",
    "        lotteryCount(A[k:n],sright,C)\n",
    "        print(C)\n",
    "\n",
    "#A = [100,-20,10,-40,400,200,10,170,70]\n",
    "#A=[-40, -20, 10, 10] \n",
    "S = [(2,100),(4,5),(10,11),(-50,0)]\n",
    "C = collections.Counter()\n",
    "#lotteryCount(A,S,C)\n",
    "\n"
   ]
  },
  {
   "cell_type": "code",
   "execution_count": 43,
   "metadata": {},
   "outputs": [
    {
     "name": "stdout",
     "output_type": "stream",
     "text": [
      "0 0 [10, -20, 10, -40]\n",
      "1 1 1 [10, -20, 10, -40]\n",
      "1 1 [10, -20, 10, -40]\n",
      "2 1 2 [10, -20, 10, -40]\n",
      "1 2 [10, -20, 10, -40]\n",
      "3 2 3 [10, -20, -40, 10]\n",
      "2 3\n"
     ]
    },
    {
     "data": {
      "text/plain": [
       "([-40, -20, 10, 10], (2, 3))"
      ]
     },
     "execution_count": 43,
     "metadata": {},
     "output_type": "execute_result"
    }
   ],
   "source": [
    "#\n",
    "# 3-way partition implemented with single scan and 3 regions.\n",
    "#\n",
    "\n",
    "import math\n",
    "from random import randint\n",
    "import collections\n",
    "\n",
    "def swapElements(a,x,y):\n",
    "    temp = a[x]\n",
    "    a[x] = a[y]\n",
    "    a[y] = temp\n",
    "\n",
    "# need to refine and implement partition3\n",
    "def partition3(A,q):\n",
    "    x = A[q]\n",
    "    swapElements(A,q,0)\n",
    "    n = len(A)\n",
    "    j = 0\n",
    "    t = j\n",
    "    for i in range(1,n):\n",
    "        print(j,t,A)\n",
    "        if A[i] < x:\n",
    "            swapElements(A,i,j+1)\n",
    "            swapElements(A,i,t+1)\n",
    "            j+=1\n",
    "            t+=1\n",
    "        elif A[i]==x:\n",
    "            swapElements(A,i,t+1)\n",
    "            t+=1\n",
    "        print(i,j,t,A)\n",
    "    print(j,t)\n",
    "    swapElements(A,0,t-1)\n",
    "    return (j,t)\n",
    "\n",
    "A=[-40, -20, 10, 10] \n",
    "A,partition3(A,3)"
   ]
  },
  {
   "cell_type": "code",
   "execution_count": 25,
   "metadata": {},
   "outputs": [
    {
     "name": "stdout",
     "output_type": "stream",
     "text": [
      "[-2, 3, 8, 9, 10, 15, 20] [(-20, -15), (20, 100), (4, 5), (16, 19), (10, 11), (-50, 0), (10, 30), (1, 9)] [0, 1, 0, 0, 1, 1, 3, 3]\n"
     ]
    }
   ],
   "source": [
    "import math\n",
    "import collections\n",
    "import numpy\n",
    "\n",
    "#\n",
    "# Solution using sort and binary search for range scan. O(n*log n)\n",
    "#\n",
    "\n",
    "def binarySearch(A,target,rangeType):\n",
    "    low = 0\n",
    "    high = len(A)-1\n",
    "    while low <= high:\n",
    "        mid = math.ceil( (high+low)/2 )\n",
    "        if target == A[mid]:\n",
    "            if rangeType == \"EXCLUSIVE\":\n",
    "                return mid+1\n",
    "            else:\n",
    "                return mid\n",
    "        elif target < A[mid]:\n",
    "            high = mid-1\n",
    "        else:\n",
    "            low = mid+1\n",
    "    return low\n",
    "\n",
    "def lotteryCount(A,S,C):\n",
    "    A.sort()\n",
    "    i = 0\n",
    "    for x in S:\n",
    "        ai = x[0]\n",
    "        bi = x[1]\n",
    "        ra = binarySearch(A,ai,\"INCLUSIVE\")\n",
    "        rb = binarySearch(A,bi,\"EXCLUSIVE\")\n",
    "        C[i] = rb-ra\n",
    "        i+=1\n",
    "\n",
    "        \n",
    "\n",
    "A=[9,3,-2,8,10,20,15]\n",
    "\n",
    "r1= binarySearch(A,3,\"INCLUSIVE\")\n",
    "r2 = binarySearch(A,15,\"EXCLUSIVE\")\n",
    "\n",
    "S = [(-20,-15),(20,100),(4,5),(16,19),(10,11),(-50,0),(10,30),(1,9)]\n",
    "C = [0]*(len(S))\n",
    "lotteryCount(A,S,C)\n",
    "print(A,S,C)"
   ]
  },
  {
   "cell_type": "code",
   "execution_count": null,
   "metadata": {},
   "outputs": [],
   "source": []
  }
 ],
 "metadata": {
  "kernelspec": {
   "display_name": "Python 3",
   "language": "python",
   "name": "python3"
  },
  "language_info": {
   "codemirror_mode": {
    "name": "ipython",
    "version": 3
   },
   "file_extension": ".py",
   "mimetype": "text/x-python",
   "name": "python",
   "nbconvert_exporter": "python",
   "pygments_lexer": "ipython3",
   "version": "3.7.0"
  }
 },
 "nbformat": 4,
 "nbformat_minor": 2
}
