{
 "cells": [
  {
   "cell_type": "code",
   "execution_count": 102,
   "metadata": {},
   "outputs": [
    {
     "data": {
      "text/plain": [
       "4.0"
      ]
     },
     "execution_count": 102,
     "metadata": {},
     "output_type": "execute_result"
    }
   ],
   "source": [
    "import math\n",
    "math.fabs(-4)"
   ]
  },
  {
   "cell_type": "code",
   "execution_count": 182,
   "metadata": {
    "scrolled": true
   },
   "outputs": [
    {
     "name": "stdout",
     "output_type": "stream",
     "text": [
      "MaxSubArr O(n*logn) (7, 10, 43)\n",
      "MaxSubArr O(n) (7, 10, 43)\n"
     ]
    }
   ],
   "source": [
    "import math\n",
    "\n",
    "#Output: (x1,x2,maxSum) where A[x1...x2] is the subarray with maxSum\n",
    "def maxSubArray(A,low,high):\n",
    "    n = high - low + 1\n",
    "    if  low >= high:\n",
    "        return (low,high,A[low])\n",
    "    else:\n",
    "        mid = int((low+high)/2)\n",
    "        L_MaxSubArr = maxSubArray(A,low,mid)\n",
    "        R_MaxSubArr = maxSubArray(A,mid+1,high)\n",
    "        M_MaxSubArr = maxCrossingSubarray(A,low,mid,high)\n",
    "        if L_MaxSubArr[2] >= R_MaxSubArr[2] and L_MaxSubArr[2] >= M_MaxSubArr[2]:\n",
    "            return L_MaxSubArr\n",
    "        elif R_MaxSubArr[2] >= L_MaxSubArr[2] and R_MaxSubArr[2] >= M_MaxSubArr[2]:\n",
    "            return R_MaxSubArr\n",
    "        else:\n",
    "            return M_MaxSubArr\n",
    "        \n",
    "def maxCrossingSubarray(A,low,mid,high):\n",
    "    maxLeftSum = -9999999\n",
    "    k1 = low\n",
    "    sum = 0\n",
    "    for i in reversed(range(low,mid+1)):\n",
    "        sum+=A[i]\n",
    "        if sum >= maxLeftSum:\n",
    "            maxLeftSum = sum\n",
    "            k1 = i\n",
    "    \n",
    "    maxRightSum = -9999999\n",
    "    k2 = mid+1\n",
    "    sum = 0\n",
    "    for j in range(mid+1,high+1):\n",
    "        sum+=A[j]\n",
    "        if sum >= maxRightSum:\n",
    "            maxRightSum = sum\n",
    "            k2 = j\n",
    "    return (k1,k2, maxLeftSum+maxRightSum)\n",
    "\n",
    "# \n",
    "def maxSubArraySingleScan(A,low,high):\n",
    "    sum = A[low]\n",
    "    maxSum = A[low]\n",
    "    x1 = 0\n",
    "    x2 = 0\n",
    "    for i in range(low+1,high+1):\n",
    "        sum+=A[i]\n",
    "        if sum-A[i] < 0 and A[i] > sum-A[i]:\n",
    "            x1 = i\n",
    "            x2 = i\n",
    "            maxSum = A[i]\n",
    "            sum = maxSum\n",
    "        elif sum > 0 and sum > maxSum:\n",
    "            x2 = i\n",
    "            maxSum = sum  \n",
    "    return (x1,x2,maxSum)\n",
    "\n",
    "A = [29,-3,-25,28,-3,-16,-23,18,20,-7,12,-5,-22,15,-4,7]\n",
    "print(\"MaxSubArr O(n*logn)\",maxSubArray(A,0,6)) \n",
    "print(\"MaxSubArr O(n)\",maxSubArraySingleScan(A,0,6))"
   ]
  },
  {
   "cell_type": "code",
   "execution_count": null,
   "metadata": {},
   "outputs": [],
   "source": []
  }
 ],
 "metadata": {
  "kernelspec": {
   "display_name": "Python 3",
   "language": "python",
   "name": "python3"
  },
  "language_info": {
   "codemirror_mode": {
    "name": "ipython",
    "version": 3
   },
   "file_extension": ".py",
   "mimetype": "text/x-python",
   "name": "python",
   "nbconvert_exporter": "python",
   "pygments_lexer": "ipython3",
   "version": "3.7.0"
  }
 },
 "nbformat": 4,
 "nbformat_minor": 2
}
