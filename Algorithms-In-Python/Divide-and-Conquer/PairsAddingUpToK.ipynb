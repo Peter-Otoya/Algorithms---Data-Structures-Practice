{
 "cells": [
  {
   "cell_type": "code",
   "execution_count": 39,
   "metadata": {},
   "outputs": [
    {
     "data": {
      "text/plain": [
       "{}"
      ]
     },
     "execution_count": 39,
     "metadata": {},
     "output_type": "execute_result"
    }
   ],
   "source": [
    "dict = {1:1}\n",
    "dict\n",
    "del dict[1]\n",
    "dict"
   ]
  },
  {
   "cell_type": "code",
   "execution_count": 65,
   "metadata": {
    "scrolled": true
   },
   "outputs": [
    {
     "data": {
      "text/plain": [
       "[(4, 3), (2, 5)]"
      ]
     },
     "execution_count": 65,
     "metadata": {},
     "output_type": "execute_result"
    }
   ],
   "source": [
    "class SmartNumber:\n",
    "    def __init__(self,value):\n",
    "        self.value = value\n",
    "        self.marked = False\n",
    "\n",
    "def pairsWhoAddUpTo(a,k):\n",
    "    output = []\n",
    "    map = {}\n",
    "    for x in a:\n",
    "        if x in map:\n",
    "            sn = map[x]\n",
    "            if not sn.marked:\n",
    "                x_complement = sn.value\n",
    "                output.append(( x , x_complement))\n",
    "                sn.marked = True\n",
    "        elif k-x not in map:\n",
    "            map[k-x] = SmartNumber(x)\n",
    "    return output\n",
    "\n",
    "# O(n) solutions generally use maps to have some memory of what they saw. \n",
    "\n",
    "a = [3,3,4,4,1,0,5,2]\n",
    "pairsWhoAddUpTo(a,7)"
   ]
  }
 ],
 "metadata": {
  "kernelspec": {
   "display_name": "Python 3",
   "language": "python",
   "name": "python3"
  },
  "language_info": {
   "codemirror_mode": {
    "name": "ipython",
    "version": 3
   },
   "file_extension": ".py",
   "mimetype": "text/x-python",
   "name": "python",
   "nbconvert_exporter": "python",
   "pygments_lexer": "ipython3",
   "version": "3.7.0"
  }
 },
 "nbformat": 4,
 "nbformat_minor": 2
}
